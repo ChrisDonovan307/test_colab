{
  "cells": [
    {
      "cell_type": "code",
      "execution_count": null,
      "metadata": {
        "id": "0q0BH5pRBaC5"
      },
      "outputs": [],
      "source": [
        "!git init"
      ]
    },
    {
      "cell_type": "code",
      "execution_count": null,
      "metadata": {
        "id": "gCaHPF-WB9G8"
      },
      "outputs": [],
      "source": [
        "!git config --global init.defaultBranch main"
      ]
    },
    {
      "cell_type": "code",
      "execution_count": null,
      "metadata": {
        "id": "0Re8VXgek3oX"
      },
      "outputs": [],
      "source": [
        "!git branch -m master main"
      ]
    },
    {
      "cell_type": "code",
      "execution_count": null,
      "metadata": {
        "id": "RPi0nJPIk83P"
      },
      "outputs": [],
      "source": [
        "!git branch"
      ]
    },
    {
      "cell_type": "code",
      "execution_count": null,
      "metadata": {
        "id": "Q2OL1CbKCKDI"
      },
      "outputs": [],
      "source": [
        "!pwd"
      ]
    },
    {
      "cell_type": "code",
      "execution_count": null,
      "metadata": {
        "id": "x9VXXm5yCRRD"
      },
      "outputs": [],
      "source": [
        "!git status"
      ]
    },
    {
      "cell_type": "markdown",
      "metadata": {
        "id": "Sl-GRUInnQbA"
      },
      "source": [
        "Try to set remote to https of repo"
      ]
    },
    {
      "cell_type": "code",
      "execution_count": null,
      "metadata": {
        "id": "b8FYY8i5nX31"
      },
      "outputs": [],
      "source": [
        "!git remote set-url origin https://github.com/ChrisDonovan307/test_colab.git"
      ]
    },
    {
      "cell_type": "code",
      "execution_count": null,
      "metadata": {
        "id": "uxkX39bXsAg3"
      },
      "outputs": [],
      "source": [
        "!git remote add origin https://github.com/ChrisDonovan/test_colab.git"
      ]
    },
    {
      "cell_type": "code",
      "execution_count": null,
      "metadata": {
        "id": "62A9GBO-Doea"
      },
      "outputs": [],
      "source": [
        "!git remote -v"
      ]
    },
    {
      "cell_type": "code",
      "execution_count": null,
      "metadata": {
        "id": "N2PNnmGQD6Ye"
      },
      "outputs": [],
      "source": [
        "!git config --global user.email 'ctudonovan@gmail.com'"
      ]
    },
    {
      "cell_type": "code",
      "execution_count": null,
      "metadata": {
        "id": "rrgAZiDtD_47"
      },
      "outputs": [],
      "source": [
        "!git config --global user.name 'ChrisDonovan307'"
      ]
    },
    {
      "cell_type": "code",
      "execution_count": null,
      "metadata": {
        "id": "TdfJx5B7pzoG"
      },
      "outputs": [],
      "source": [
        "!git config --global user.name\n",
        "!git config --global user.email"
      ]
    },
    {
      "cell_type": "code",
      "execution_count": null,
      "metadata": {
        "id": "64Nghr1ZlW7m"
      },
      "outputs": [],
      "source": [
        "!git add ."
      ]
    },
    {
      "cell_type": "code",
      "execution_count": null,
      "metadata": {
        "id": "-zgLLD_8lYuD"
      },
      "outputs": [],
      "source": [
        "!git status"
      ]
    },
    {
      "cell_type": "code",
      "execution_count": null,
      "metadata": {
        "id": "WVO-iNHqD0DJ"
      },
      "outputs": [],
      "source": [
        "!git commit -m 'first commit from colab'"
      ]
    },
    {
      "cell_type": "code",
      "execution_count": null,
      "metadata": {
        "id": "qdIzFWlqELZM"
      },
      "outputs": [],
      "source": [
        "!git log"
      ]
    },
    {
      "cell_type": "code",
      "execution_count": null,
      "metadata": {
        "id": "qw7Zc4irDuhQ"
      },
      "outputs": [],
      "source": [
        "!git push origin main"
      ]
    },
    {
      "cell_type": "code",
      "execution_count": null,
      "metadata": {
        "id": "CeSjv8W5pi47"
      },
      "outputs": [],
      "source": [
        "!git push https://github.com/ChrisDonovan307/test_colab"
      ]
    },
    {
      "cell_type": "code",
      "execution_count": null,
      "metadata": {
        "id": "2-775_HDm8e3"
      },
      "outputs": [],
      "source": [
        "!ls ~/.ssh"
      ]
    },
    {
      "cell_type": "code",
      "execution_count": 1,
      "metadata": {},
      "outputs": [],
      "source": [
        "import numpy as np"
      ]
    }
  ],
  "metadata": {
    "colab": {
      "authorship_tag": "ABX9TyPtcTwAF0yFV0ZIjv7FIKi5",
      "include_colab_link": true,
      "provenance": []
    },
    "kernelspec": {
      "display_name": "Python 3",
      "name": "python3"
    },
    "language_info": {
      "codemirror_mode": {
        "name": "ipython",
        "version": 3
      },
      "file_extension": ".py",
      "mimetype": "text/x-python",
      "name": "python",
      "nbconvert_exporter": "python",
      "pygments_lexer": "ipython3",
      "version": "3.13.0"
    }
  },
  "nbformat": 4,
  "nbformat_minor": 0
}
