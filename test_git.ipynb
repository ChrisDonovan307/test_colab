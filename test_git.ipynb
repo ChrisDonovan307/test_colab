{
  "nbformat": 4,
  "nbformat_minor": 0,
  "metadata": {
    "colab": {
      "provenance": [],
      "authorship_tag": "ABX9TyPtcTwAF0yFV0ZIjv7FIKi5",
      "include_colab_link": true
    },
    "kernelspec": {
      "name": "python3",
      "display_name": "Python 3"
    },
    "language_info": {
      "name": "python"
    }
  },
  "cells": [
    {
      "cell_type": "markdown",
      "metadata": {
        "id": "view-in-github",
        "colab_type": "text"
      },
      "source": [
        "<a href=\"https://colab.research.google.com/github/ChrisDonovan307/test_colab/blob/main/test_git.ipynb\" target=\"_parent\"><img src=\"https://colab.research.google.com/assets/colab-badge.svg\" alt=\"Open In Colab\"/></a>"
      ]
    },
    {
      "cell_type": "code",
      "execution_count": null,
      "metadata": {
        "id": "0q0BH5pRBaC5"
      },
      "outputs": [],
      "source": [
        "!git init"
      ]
    },
    {
      "cell_type": "code",
      "source": [
        "!git config --global init.defaultBranch main"
      ],
      "metadata": {
        "id": "gCaHPF-WB9G8"
      },
      "execution_count": null,
      "outputs": []
    },
    {
      "cell_type": "code",
      "source": [
        "!git branch -m master main"
      ],
      "metadata": {
        "id": "0Re8VXgek3oX"
      },
      "execution_count": null,
      "outputs": []
    },
    {
      "cell_type": "code",
      "source": [
        "!git branch"
      ],
      "metadata": {
        "id": "RPi0nJPIk83P"
      },
      "execution_count": null,
      "outputs": []
    },
    {
      "cell_type": "code",
      "source": [
        "!pwd"
      ],
      "metadata": {
        "id": "Q2OL1CbKCKDI"
      },
      "execution_count": null,
      "outputs": []
    },
    {
      "cell_type": "code",
      "source": [
        "!git status"
      ],
      "metadata": {
        "id": "x9VXXm5yCRRD"
      },
      "execution_count": null,
      "outputs": []
    },
    {
      "cell_type": "markdown",
      "source": [
        "Try to set remote to https of repo"
      ],
      "metadata": {
        "id": "Sl-GRUInnQbA"
      }
    },
    {
      "cell_type": "code",
      "source": [
        "!git remote set-url origin https://github.com/ChrisDonovan307/test_colab.git"
      ],
      "metadata": {
        "id": "b8FYY8i5nX31"
      },
      "execution_count": null,
      "outputs": []
    },
    {
      "cell_type": "code",
      "source": [
        "!git remote add origin https://github.com/ChrisDonovan/test_colab.git"
      ],
      "metadata": {
        "id": "uxkX39bXsAg3"
      },
      "execution_count": null,
      "outputs": []
    },
    {
      "cell_type": "code",
      "source": [
        "!git remote -v"
      ],
      "metadata": {
        "id": "62A9GBO-Doea"
      },
      "execution_count": null,
      "outputs": []
    },
    {
      "cell_type": "code",
      "source": [
        "!git config --global user.email 'ctudonovan@gmail.com'"
      ],
      "metadata": {
        "id": "N2PNnmGQD6Ye"
      },
      "execution_count": null,
      "outputs": []
    },
    {
      "cell_type": "code",
      "source": [
        "!git config --global user.name 'ChrisDonovan307'"
      ],
      "metadata": {
        "id": "rrgAZiDtD_47"
      },
      "execution_count": null,
      "outputs": []
    },
    {
      "cell_type": "code",
      "source": [
        "!git config --global user.name\n",
        "!git config --global user.email"
      ],
      "metadata": {
        "id": "TdfJx5B7pzoG"
      },
      "execution_count": null,
      "outputs": []
    },
    {
      "cell_type": "code",
      "source": [
        "!git add ."
      ],
      "metadata": {
        "id": "64Nghr1ZlW7m"
      },
      "execution_count": null,
      "outputs": []
    },
    {
      "cell_type": "code",
      "source": [
        "!git status"
      ],
      "metadata": {
        "id": "-zgLLD_8lYuD"
      },
      "execution_count": null,
      "outputs": []
    },
    {
      "cell_type": "code",
      "source": [
        "!git commit -m 'first commit from colab'"
      ],
      "metadata": {
        "id": "WVO-iNHqD0DJ"
      },
      "execution_count": null,
      "outputs": []
    },
    {
      "cell_type": "code",
      "source": [
        "!git log"
      ],
      "metadata": {
        "id": "qdIzFWlqELZM"
      },
      "execution_count": null,
      "outputs": []
    },
    {
      "cell_type": "code",
      "source": [
        "!git push origin main"
      ],
      "metadata": {
        "id": "qw7Zc4irDuhQ"
      },
      "execution_count": null,
      "outputs": []
    },
    {
      "cell_type": "code",
      "source": [
        "!git push https://github.com/ChrisDonovan307/test_colab"
      ],
      "metadata": {
        "id": "CeSjv8W5pi47"
      },
      "execution_count": null,
      "outputs": []
    },
    {
      "cell_type": "code",
      "source": [
        "!ls ~/.ssh"
      ],
      "metadata": {
        "id": "2-775_HDm8e3"
      },
      "execution_count": null,
      "outputs": []
    }
  ]
}